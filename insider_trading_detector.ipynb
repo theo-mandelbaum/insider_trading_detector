{
 "cells": [
  {
   "cell_type": "code",
   "execution_count": 2,
   "id": "ecd6f6ef-31e9-4418-bae4-d361c017fb44",
   "metadata": {},
   "outputs": [],
   "source": [
    "import pandas as pd"
   ]
  },
  {
   "cell_type": "code",
   "execution_count": null,
   "id": "e9a109e9-a37f-43f0-9802-00e3ca82766a",
   "metadata": {},
   "outputs": [],
   "source": [
    "API_KEY = QQSGME5NHNMVSJI6"
   ]
  }
 ],
 "metadata": {
  "kernelspec": {
   "display_name": "Python [conda env:base] *",
   "language": "python",
   "name": "conda-base-py"
  },
  "language_info": {
   "codemirror_mode": {
    "name": "ipython",
    "version": 3
   },
   "file_extension": ".py",
   "mimetype": "text/x-python",
   "name": "python",
   "nbconvert_exporter": "python",
   "pygments_lexer": "ipython3",
   "version": "3.12.7"
  }
 },
 "nbformat": 4,
 "nbformat_minor": 5
}
